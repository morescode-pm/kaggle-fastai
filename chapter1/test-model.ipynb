{
 "cells": [
  {
   "cell_type": "code",
   "execution_count": 3,
   "id": "482b92fa",
   "metadata": {},
   "outputs": [],
   "source": [
    "import pathlib\n",
    "import fastai\n",
    "import torch"
   ]
  },
  {
   "cell_type": "code",
   "execution_count": 4,
   "id": "37cddfa2",
   "metadata": {},
   "outputs": [],
   "source": [
    "# Monkey patch PosixPath to WindowsPath if on Windows\n",
    "pathlib.PosixPath = pathlib.WindowsPath\n",
    "\n",
    "learn_inf = fastai.learner.load_learner(\"2025-06-13-res18x25p-v7.pkl\", cpu=True)"
   ]
  },
  {
   "cell_type": "code",
   "execution_count": 7,
   "id": "6985c6f1",
   "metadata": {},
   "outputs": [
    {
     "data": {
      "text/html": [
       "\n",
       "<style>\n",
       "    /* Turns off some styling */\n",
       "    progress {\n",
       "        /* gets rid of default border in Firefox and Opera. */\n",
       "        border: none;\n",
       "        /* Needs to be in here for Safari polyfill so background images work as expected. */\n",
       "        background-size: auto;\n",
       "    }\n",
       "    progress:not([value]), progress:not([value])::-webkit-progress-bar {\n",
       "        background: repeating-linear-gradient(45deg, #7e7e7e, #7e7e7e 10px, #5c5c5c 10px, #5c5c5c 20px);\n",
       "    }\n",
       "    .progress-bar-interrupted, .progress-bar-interrupted::-webkit-progress-bar {\n",
       "        background: #F44336;\n",
       "    }\n",
       "</style>\n"
      ],
      "text/plain": [
       "<IPython.core.display.HTML object>"
      ]
     },
     "metadata": {},
     "output_type": "display_data"
    },
    {
     "data": {
      "text/html": [],
      "text/plain": [
       "<IPython.core.display.HTML object>"
      ]
     },
     "metadata": {},
     "output_type": "display_data"
    },
    {
     "data": {
      "text/plain": [
       "('Castor_canadensis',\n",
       " tensor(3),\n",
       " tensor([1.8329e-06, 9.4019e-06, 1.7672e-02, 9.8215e-01, 9.9412e-05, 1.9536e-05,\n",
       "         9.8958e-07, 4.2934e-05]))"
      ]
     },
     "execution_count": 7,
     "metadata": {},
     "output_type": "execute_result"
    }
   ],
   "source": [
    "# Make a prediction\n",
    "learn_inf.predict('_tests/Castor_canadensis.JPG')"
   ]
  },
  {
   "cell_type": "code",
   "execution_count": 8,
   "id": "144bb385",
   "metadata": {},
   "outputs": [
    {
     "data": {
      "text/plain": [
       "['Actitis_macularius', 'Anas_platyrhynchos', 'Branta_canadensis', 'Castor_canadensis', 'Sylvilagus_floridanus', 'Trachemys_scripta_elegans', 'Turdus_migratorius', 'blank']"
      ]
     },
     "execution_count": 8,
     "metadata": {},
     "output_type": "execute_result"
    }
   ],
   "source": [
    "learn_inf.dls.vocab"
   ]
  }
 ],
 "metadata": {
  "kernelspec": {
   "display_name": "kaggle",
   "language": "python",
   "name": "python3"
  },
  "language_info": {
   "codemirror_mode": {
    "name": "ipython",
    "version": 3
   },
   "file_extension": ".py",
   "mimetype": "text/x-python",
   "name": "python",
   "nbconvert_exporter": "python",
   "pygments_lexer": "ipython3",
   "version": "3.13.5"
  }
 },
 "nbformat": 4,
 "nbformat_minor": 5
}
